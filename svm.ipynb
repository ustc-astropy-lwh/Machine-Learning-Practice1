{
 "cells": [
  {
   "cell_type": "markdown",
   "metadata": {},
   "source": [
    "# Baseline: SVM Classification"
   ]
  },
  {
   "cell_type": "code",
   "execution_count": 1,
   "metadata": {},
   "outputs": [],
   "source": [
    "import numpy as np\n",
    "import matplotlib.pyplot as plt\n",
    "from sklearn.model_selection import train_test_split\n",
    "from sklearn import svm\n",
    "from sklearn.discriminant_analysis import LinearDiscriminantAnalysis\n",
    "import os\n",
    "import glob\n",
    "from collections import defaultdict\n",
    "from PIL import Image"
   ]
  },
  {
   "cell_type": "code",
   "execution_count": 2,
   "metadata": {},
   "outputs": [],
   "source": [
    "def PIE_path():\n",
    "    \"\"\"\n",
    "    output: mainpath, where PIE exists.\n",
    "    \"\"\"\n",
    "    return os.getcwd() + '/PIE'\n",
    "\n",
    "def load_data(mainpath):\n",
    "    \"\"\"\"\n",
    "    input:\n",
    "    mainpath: str, PIE dir, which contains 68 people (photos).\n",
    "    --------------------------------------------------------------------\n",
    "    output:\n",
    "    label: list, name\n",
    "    data: list, pictures.\n",
    "    \"\"\"\n",
    "    label = []\n",
    "    data = []\n",
    "    for i in range(1, 69):\n",
    "        pictures_path = glob.glob(mainpath + '/' + str(i) + '/*.jpg')\n",
    "        for p in  pictures_path:\n",
    "            ### pictures to matrix\n",
    "            data.append(np.asarray(Image.open(p)).flatten())\n",
    "            label.append(str(i))\n",
    "    return label, data\n"
   ]
  },
  {
   "cell_type": "markdown",
   "metadata": {},
   "source": [
    "## data load in"
   ]
  },
  {
   "cell_type": "code",
   "execution_count": 3,
   "metadata": {},
   "outputs": [],
   "source": [
    "label, dataset = load_data(PIE_path())\n"
   ]
  },
  {
   "cell_type": "markdown",
   "metadata": {},
   "source": [
    "## train test split"
   ]
  },
  {
   "cell_type": "code",
   "execution_count": 4,
   "metadata": {},
   "outputs": [],
   "source": [
    "X_train, X_test, Y_train, Y_test = train_test_split(\n",
    "   dataset, label, test_size=0.3, random_state=1024, shuffle=True \n",
    ")\n"
   ]
  },
  {
   "cell_type": "markdown",
   "metadata": {},
   "source": [
    "## apply LDA to train data \n",
    "### apply the trained LDA model to test data to avoid data leckage.\n",
    "### n_components may affect..."
   ]
  },
  {
   "cell_type": "code",
   "execution_count": 5,
   "metadata": {},
   "outputs": [],
   "source": [
    "# set LDA model\n",
    "LDA_model = LinearDiscriminantAnalysis(n_components=10) # 10,20,30,40,....\n",
    "# train LDA model\n",
    "LDA_model.fit(X_train, Y_train)\n",
    "# transform\n",
    "lda_X_train = LDA_model.transform(X_train)\n",
    "lda_X_test = LDA_model.transform(X_test)\n"
   ]
  },
  {
   "cell_type": "markdown",
   "metadata": {},
   "source": [
    "## SVM: train and predict \n",
    "#### Girdsearch with kernel = \"rbf\""
   ]
  },
  {
   "cell_type": "code",
   "execution_count": 7,
   "metadata": {},
   "outputs": [
    {
     "name": "stdout",
     "output_type": "stream",
     "text": [
      "hyperparameters with C=0.01 and gamma=0.01.The accuracy is 0.20853764061147967\n",
      "hyperparameters with C=0.01 and gamma=0.1.The accuracy is 0.010095183155465821\n",
      "hyperparameters with C=0.01 and gamma=0.5.The accuracy is 0.00980674935102394\n",
      "hyperparameters with C=0.01 and gamma=1.0.The accuracy is 0.00980674935102394\n",
      "hyperparameters with C=0.01 and gamma=2.The accuracy is 0.00980674935102394\n",
      "hyperparameters with C=0.01 and gamma=4.The accuracy is 0.00980674935102394\n",
      "hyperparameters with C=0.1 and gamma=0.01.The accuracy is 0.8520334583213153\n",
      "hyperparameters with C=0.1 and gamma=0.1.The accuracy is 0.8658782809345256\n",
      "hyperparameters with C=0.1 and gamma=0.5.The accuracy is 0.02913181424862994\n",
      "hyperparameters with C=0.1 and gamma=1.0.The accuracy is 0.00980674935102394\n",
      "hyperparameters with C=0.1 and gamma=2.The accuracy is 0.00980674935102394\n",
      "hyperparameters with C=0.1 and gamma=4.The accuracy is 0.00980674935102394\n",
      "hyperparameters with C=1 and gamma=0.01.The accuracy is 0.8918373233342948\n",
      "hyperparameters with C=1 and gamma=0.1.The accuracy is 0.8950100951831554\n",
      "hyperparameters with C=1 and gamma=0.5.The accuracy is 0.7231035477357947\n",
      "hyperparameters with C=1 and gamma=1.0.The accuracy is 0.4816844534179406\n",
      "hyperparameters with C=1 and gamma=2.The accuracy is 0.10268243438130949\n",
      "hyperparameters with C=1 and gamma=4.The accuracy is 0.01615229304874531\n",
      "hyperparameters with C=10 and gamma=0.01.The accuracy is 0.8915488895298529\n",
      "hyperparameters with C=10 and gamma=0.1.The accuracy is 0.8906835881165273\n",
      "hyperparameters with C=10 and gamma=0.5.The accuracy is 0.7297375252379579\n",
      "hyperparameters with C=10 and gamma=1.0.The accuracy is 0.5076434958177098\n",
      "hyperparameters with C=10 and gamma=2.The accuracy is 0.14796654167868475\n",
      "hyperparameters with C=10 and gamma=4.The accuracy is 0.022497836746466687\n",
      "hyperparameters with C=100 and gamma=0.01.The accuracy is 0.8834727430054803\n",
      "hyperparameters with C=100 and gamma=0.1.The accuracy is 0.888952985289876\n",
      "hyperparameters with C=100 and gamma=0.5.The accuracy is 0.7297375252379579\n",
      "hyperparameters with C=100 and gamma=1.0.The accuracy is 0.5076434958177098\n",
      "hyperparameters with C=100 and gamma=2.The accuracy is 0.14796654167868475\n",
      "hyperparameters with C=100 and gamma=4.The accuracy is 0.022497836746466687\n"
     ]
    }
   ],
   "source": [
    "for penalty in [0.01,0.1,1,10,100]:\n",
    "    for ga in [0.01,0.1,0.5,1.,2,4]:\n",
    "        # set svm model\n",
    "        SVM_model = svm.SVC(C=penalty, kernel=\"rbf\", gamma=ga)\n",
    "        # train svm model\n",
    "        SVM_model.fit(lda_X_train, Y_train)\n",
    "        # predcit on test data\n",
    "        pre = SVM_model.predict(lda_X_test)\n",
    "\n",
    "        # accuracy\n",
    "        acc_num = 0\n",
    "        for res, tareget in zip(pre, Y_test):\n",
    "            if res == tareget:\n",
    "                acc_num += 1\n",
    "\n",
    "        print(r\"hyperparameters with C={} and gamma={}.The accuracy is {}\".format(penalty, ga, acc_num/len(pre)))\n"
   ]
  },
  {
   "cell_type": "code",
   "execution_count": null,
   "metadata": {},
   "outputs": [],
   "source": []
  }
 ],
 "metadata": {
  "interpreter": {
   "hash": "3bd2df82d4e3e3ee5136405aa3e297489dd97e42e038c9eb382d9aaa63150648"
  },
  "kernelspec": {
   "display_name": "Python 3.7.4 ('base')",
   "language": "python",
   "name": "python3"
  },
  "language_info": {
   "codemirror_mode": {
    "name": "ipython",
    "version": 3
   },
   "file_extension": ".py",
   "mimetype": "text/x-python",
   "name": "python",
   "nbconvert_exporter": "python",
   "pygments_lexer": "ipython3",
   "version": "3.7.4"
  },
  "orig_nbformat": 4
 },
 "nbformat": 4,
 "nbformat_minor": 2
}
